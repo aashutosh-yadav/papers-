{
 "cells": [
  {
   "cell_type": "code",
   "execution_count": 3,
   "metadata": {},
   "outputs": [],
   "source": [
    "import torch\n",
    "from torch import nn\n",
    "from torch import optim\n",
    "from torchvision.transforms import transforms\n",
    "import numpy as np\n",
    "from PIL import Image\n",
    "import matplotlib.pyplot as plt\n",
    "\n",
    "from tqdm.notebook import tqdm\n",
    "import warnings\n",
    "\n"
   ]
  },
  {
   "cell_type": "code",
   "execution_count": 4,
   "metadata": {},
   "outputs": [],
   "source": [
    "warnings.filterwarnings(\"ignore\")\n",
    "\n",
    "transform = transforms.Compose([\n",
    "                                transforms.Resize((32, 32)),#resise the image so theereis not large number of weights .\n",
    "                                transforms.ToTensor()\n",
    "])\n",
    "\n"
   ]
  },
  {
   "cell_type": "code",
   "execution_count": 5,
   "metadata": {},
   "outputs": [
    {
     "name": "stdout",
     "output_type": "stream",
     "text": [
      "torch.Size([3, 32, 32])\n"
     ]
    },
    {
     "data": {
      "image/png": "[encoded data removed]",
      "text/plain": [
       "<Figure size 640x480 with 1 Axes>"
      ]
     },
     "metadata": {},
     "output_type": "display_data"
    }
   ],
   "source": [
    "flat_img = 3072  # 32*32*3 \n",
    "\n",
    "img = Image.open('truck.jpeg')\n",
    "real_img = transform(img)\n",
    "\n",
    "torch.manual_seed(2)\n",
    "fake_img = torch.rand(1, 100)\n",
    "\n",
    "plt.imshow(np.transpose(real_img.numpy(), (1, 2, 0)))\n",
    "print(real_img.size())"
   ]
  },
  {
   "cell_type": "code",
   "execution_count": 13,
   "metadata": {},
   "outputs": [],
   "source": [
    "class Discriminator(nn.Module):\n",
    "  def __init__(self):\n",
    "    super().__init__()\n",
    "    self.linear = nn.Sequential(\n",
    "        nn.Linear(flat_img, 10000),\n",
    "        nn.ReLU(),\n",
    "        nn.Linear(10000, 1),\n",
    "        nn.Sigmoid()\n",
    "    )\n",
    "\n",
    "  def forward(self, img):\n",
    "    img = img.view(1, -1)\n",
    "    out = self.linear(img)\n",
    "\n",
    "    return out"
   ]
  },
  {
   "cell_type": "code",
   "execution_count": 14,
   "metadata": {},
   "outputs": [],
   "source": [
    "\n",
    "\n",
    "class Generator(nn.Module):\n",
    "  def __init__(self):\n",
    "    super().__init__()\n",
    "    self.linear = nn.Sequential(\n",
    "        nn.Linear(100, 10000),\n",
    "        nn.LeakyReLU(),\n",
    "        nn.Linear(10000, 4000),\n",
    "        nn.LeakyReLU(),\n",
    "        nn.Linear(4000, flat_img)\n",
    "    )\n",
    "\n",
    "  def forward(self, latent_space):\n",
    "    latent_space = latent_space.view(1, -1)\n",
    "    out = self.linear(latent_space)\n",
    "\n",
    "    return out"
   ]
  },
  {
   "cell_type": "code",
   "execution_count": 15,
   "metadata": {},
   "outputs": [],
   "source": [
    "\n",
    "device = 'cuda:0' if torch.cuda.is_available() else 'cpu'\n",
    "\n",
    "discr = Discriminator().to(device)\n",
    "gen = Generator().to(device)\n",
    "\n",
    "opt_d = optim.SGD(discr.parameters(), lr=0.001, momentum=0.9)\n",
    "opt_g = optim.SGD(gen.parameters(), lr=0.001, momentum=0.9)\n",
    "\n",
    "criterion = nn.BCELoss()"
   ]
  },
  {
   "cell_type": "code",
   "execution_count": 16,
   "metadata": {},
   "outputs": [
    {
     "data": {
      "application/vnd.jupyter.widget-view+json": {
       "model_id": "8ab5fd7d66b347ba8a7deae3253b6c37",
       "version_major": 2,
       "version_minor": 0
      },
      "text/plain": [
       "  0%|          | 0/500 [00:00<?, ?it/s]"
      ]
     },
     "metadata": {},
     "output_type": "display_data"
    }
   ],
   "source": [
    "epochs = 500\n",
    "discr_e = 4 \n",
    "gen_e = 3\n",
    "\n",
    "for epoch in tqdm(range(epochs), total=epochs):\n",
    "\n",
    "  for k in range(discr_e):\n",
    "    opt_d.zero_grad()\n",
    "\n",
    "    out_d1 = discr(real_img.to(device))\n",
    "\n",
    "    loss_d1 = criterion(out_d1, torch.ones((1, 1)).to(device))\n",
    "    loss_d1.backward()\n",
    "\n",
    "    out_d2 = gen(fake_img.to(device)).detach()\n",
    "\n",
    "    loss_d2 = criterion(discr(out_d2.to(device)), torch.zeros((1, 1)).to(device))\n",
    "    loss_d2.backward()\n",
    "\n",
    "    opt_d.step()\n",
    "\n",
    "  for i in range(gen_e):\n",
    "    opt_g.zero_grad()\n",
    "    \n",
    "    out_g = gen(fake_img.to(device))\n",
    "    \n",
    "    loss_g = torch.log(1.0 - (discr(out_g.to(device)))) \n",
    "    loss_g.backward()\n",
    "\n",
    "    opt_g.step()"
   ]
  },
  {
   "cell_type": "code",
   "execution_count": 1,
   "metadata": {},
   "outputs": [
    {
     "ename": "NameError",
     "evalue": "name 'plt' is not defined",
     "output_type": "error",
     "traceback": [
      "\u001b[0;31m---------------------------------------------------------------------------\u001b[0m",
      "\u001b[0;31mNameError\u001b[0m                                 Traceback (most recent call last)",
      "Cell \u001b[0;32mIn[1], line 1\u001b[0m\n\u001b[0;32m----> 1\u001b[0m \u001b[43mplt\u001b[49m\u001b[38;5;241m.\u001b[39mfigure(figsize\u001b[38;5;241m=\u001b[39m(\u001b[38;5;241m8\u001b[39m, \u001b[38;5;241m8\u001b[39m))\n\u001b[1;32m      3\u001b[0m plt\u001b[38;5;241m.\u001b[39msubplot(\u001b[38;5;241m1\u001b[39m, \u001b[38;5;241m2\u001b[39m, \u001b[38;5;241m1\u001b[39m)\n\u001b[1;32m      4\u001b[0m plt\u001b[38;5;241m.\u001b[39mtitle(\u001b[38;5;124m\"\u001b[39m\u001b[38;5;124mGenerated Image\u001b[39m\u001b[38;5;124m\"\u001b[39m)\n",
      "\u001b[0;31mNameError\u001b[0m: name 'plt' is not defined"
     ]
    }
   ],
   "source": [
    "plt.figure(figsize=(8, 8))\n",
    "\n",
    "plt.subplot(1, 2, 1)\n",
    "plt.title(\"Generated Image\")\n",
    "plt.xticks([])\n",
    "plt.yticks([])\n",
    "plt.imshow(np.transpose(out_g.resize(3, 32, 32).cpu().detach().numpy(), (1, 2, 0)))\n",
    "\n",
    "plt.subplot(1, 2, 2)\n",
    "plt.title(\"Original Image\")\n",
    "plt.xticks([])\n",
    "plt.yticks([])\n",
    "plt.imshow(np.transpose(real_img.numpy(), (1, 2, 0)))\n",
    "plt.show()\n"
   ]
  }
 ],
 "metadata": {
  "kernelspec": {
   "display_name": "Python 3",
   "language": "python",
   "name": "python3"
  },
  "language_info": {
   "codemirror_mode": {
    "name": "ipython",
    "version": 3
   },
   "file_extension": ".py",
   "mimetype": "text/x-python",
   "name": "python",
   "nbconvert_exporter": "python",
   "pygments_lexer": "ipython3",
   "version": "3.10.12"
  }
 },
 "nbformat": 4,
 "nbformat_minor": 2
}
